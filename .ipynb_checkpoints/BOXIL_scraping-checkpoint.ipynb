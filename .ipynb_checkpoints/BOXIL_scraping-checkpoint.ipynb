{
 "cells": [
  {
   "cell_type": "code",
   "execution_count": 1,
   "metadata": {},
   "outputs": [],
   "source": [
    "import os\n",
    "import numpy as np\n",
    "import pandas as pd\n",
    "import time\n",
    "from selenium import webdriver\n",
    "import csv\n",
    "from selenium.webdriver.common.keys import Keys"
   ]
  },
  {
   "cell_type": "code",
   "execution_count": 2,
   "metadata": {},
   "outputs": [],
   "source": [
    "# driverで開きたいURLを入力, 3行目でダウンロードしたchromedriverのあるパスを指定\n",
    "url = \"https://boxil.jp/categories/\"\n",
    "driver = webdriver.Chrome(executable_path='/Users/hiroki_igeta/chromedriver')\n",
    "driver.get(url)\n",
    "driver.maximize_window()"
   ]
  },
  {
   "cell_type": "code",
   "execution_count": 33,
   "metadata": {},
   "outputs": [],
   "source": [
    "#各カテゴリ一覧のURLを取得する\n",
    "def scrape_url(driver):\n",
    "    l = []\n",
    "    for i in driver.find_elements_by_class_name('pagesCategories-content-childCategory'):\n",
    "        for url in i.find_elements_by_tag_name('a'):\n",
    "            l.append(url.get_attribute('href'))\n",
    "    return pd.Series(data = l)"
   ]
  },
  {
   "cell_type": "code",
   "execution_count": 10,
   "metadata": {},
   "outputs": [],
   "source": [
    "results =  scrape_url(driver)\n",
    "#csvファイルにカテゴリーごとのURLを保存する\n",
    "results.to_csv(\"data/categories_url.csv\", header=False, index=False)"
   ]
  },
  {
   "cell_type": "code",
   "execution_count": 3,
   "metadata": {},
   "outputs": [],
   "source": [
    "#カテゴリーページで次のページに飛ぶ\n",
    "def next_page(driver, urls):\n",
    "    try:\n",
    "        ul_pagination = driver.find_element_by_class_name('pagination-boxil')\n",
    "        li_next = ul_pagination.find_element_by_class_name('next')\n",
    "        driver.execute_script(\"window.scrollTo(0, 3900);\")\n",
    "#         print(\"did\")\n",
    "        time.sleep(2)\n",
    "        li_next.find_element_by_tag_name('a').click()\n",
    "        time.sleep(3)\n",
    "        return True\n",
    "    except:\n",
    "        return False"
   ]
  },
  {
   "cell_type": "code",
   "execution_count": 4,
   "metadata": {},
   "outputs": [],
   "source": [
    "# 現在表示されているページのサービス名を取得\n",
    "def scrape_service(driver):\n",
    "    # ここにスクレイピングデータを１行ずつ格納していく\n",
    "    results = []\n",
    "    urls = []\n",
    "    is_on = True\n",
    "#     print(\"-----------\")\n",
    "#     count = 1\n",
    "    while is_on:\n",
    "#         print(count)\n",
    "#         count += 1\n",
    "        urls.append(driver.current_url)\n",
    "        for i in driver.find_elements_by_class_name(\"heading-3\"):\n",
    "#             l = []\n",
    "            a = i.find_element_by_tag_name(\"a\")\n",
    "#             l.append(a.text)\n",
    "#             l.append(a.get_attribute(\"href\"))\n",
    "#             results.append(l)\n",
    "            results.append(a.get_attribute(\"href\"))\n",
    "\n",
    "        is_on = next_page(driver, urls)\n",
    "    return results"
   ]
  },
  {
   "cell_type": "code",
   "execution_count": 5,
   "metadata": {},
   "outputs": [],
   "source": [
    "# results = scrape_service(driver)\n",
    "# print(results)"
   ]
  },
  {
   "cell_type": "code",
   "execution_count": 111,
   "metadata": {},
   "outputs": [],
   "source": [
    "url = \"https://boxil.jp/categories/\"\n",
    "driver = webdriver.Chrome(executable_path='/Users/hiroki_igeta/chromedriver')\n",
    "driver.get(url)\n",
    "driver.maximize_window()\n",
    "driver.get(url)"
   ]
  },
  {
   "cell_type": "code",
   "execution_count": null,
   "metadata": {},
   "outputs": [],
   "source": [
    "#各カテゴリーのURLを開き、それぞれのサービス名を取得する\n",
    "with open('data/categories_url.csv', encoding='utf-8') as csv_file:\n",
    "    service_data = []\n",
    "    o_csv = []\n",
    "    for row in csv.reader(csv_file):\n",
    "        o_csv.append(row[0])\n",
    "        for url in o_csv:\n",
    "            driver.get(url)\n",
    "            time.sleep(3)\n",
    "            service_data.append(scrape_service(driver))\n",
    "        del o_csv[0]\n",
    "    tmp = pd.Series(data = service_data)\n",
    "    tmp.to_csv(\"data/service_names_v2.csv\", header=False, index=False)"
   ]
  },
  {
   "cell_type": "code",
   "execution_count": null,
   "metadata": {},
   "outputs": [],
   "source": []
  },
  {
   "cell_type": "code",
   "execution_count": 159,
   "metadata": {},
   "outputs": [],
   "source": [
    "df = pd.read_csv(\"data/service_names.csv\", header=None)\n",
    "result = []\n",
    "df[0] = df[0].str.replace('[', '')\n",
    "df[0] = df[0].str.replace(']', '')\n",
    "df[0] = df[0].str.replace(\"'\", \"\")\n",
    "df[0] = df[0].str.replace(\"'\", \"\")\n",
    "df[0] = df[0].str.replace(\" \", \"\")\n",
    "df[0] = df[0].str.replace(\"　\", \"\")\n",
    "# バックオフィス「ペーパーレス化」完全ガイドbyBOXILSaaS\n",
    "# インサイドセールス業界レポート2019byスマートキャンプ\n",
    "# インサイドセールス業界レポート2020byスマートキャンプ\n",
    "# SaaS業界レポート2020\n",
    "# SaaS業界レポート2021速報版\n",
    "\n",
    "for d in df[0]:\n",
    "    for dd in d.split(\",\"):\n",
    "        result.append(dd)\n",
    "\n",
    "# result = pd.Series(data = list(set(result)))\n",
    "# result = pd.Series(data = result)\n",
    "result = pd.Series(data = list(dict.fromkeys(result)))\n",
    "result.to_csv(\"data/service_names_lists.csv\", header=False, index=False)"
   ]
  },
  {
   "cell_type": "code",
   "execution_count": null,
   "metadata": {},
   "outputs": [],
   "source": []
  }
 ],
 "metadata": {
  "kernelspec": {
   "display_name": "Python 3",
   "language": "python",
   "name": "python3"
  },
  "language_info": {
   "codemirror_mode": {
    "name": "ipython",
    "version": 3
   },
   "file_extension": ".py",
   "mimetype": "text/x-python",
   "name": "python",
   "nbconvert_exporter": "python",
   "pygments_lexer": "ipython3",
   "version": "3.7.4"
  }
 },
 "nbformat": 4,
 "nbformat_minor": 2
}
