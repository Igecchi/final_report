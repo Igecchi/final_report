{
 "cells": [
  {
   "cell_type": "code",
   "execution_count": 2,
   "metadata": {},
   "outputs": [],
   "source": [
    "import os\n",
    "import numpy as np\n",
    "import pandas as pd\n",
    "import time\n",
    "from selenium import webdriver\n",
    "import csv\n",
    "from selenium.webdriver.common.keys import Keys"
   ]
  },
  {
   "cell_type": "code",
   "execution_count": 7,
   "metadata": {},
   "outputs": [],
   "source": [
    "# driverで開きたいURLを入力, 3行目でダウンロードしたchromedriverのあるパスを指定\n",
    "url = \"https://boxil.jp/categories/\"\n",
    "driver = webdriver.Chrome(executable_path='/Users/hiroki_igeta/chromedriver')\n",
    "driver.get(url)\n",
    "driver.maximize_window()"
   ]
  },
  {
   "cell_type": "code",
   "execution_count": 33,
   "metadata": {},
   "outputs": [],
   "source": [
    "#各カテゴリ一覧のURLを取得する\n",
    "def scrape_url(driver):\n",
    "    l = []\n",
    "    for i in driver.find_elements_by_class_name('pagesCategories-content-childCategory'):\n",
    "        for url in i.find_elements_by_tag_name('a'):\n",
    "            l.append(url.get_attribute('href'))\n",
    "    return pd.Series(data = l)"
   ]
  },
  {
   "cell_type": "code",
   "execution_count": 10,
   "metadata": {},
   "outputs": [],
   "source": [
    "results =  scrape_url(driver)\n",
    "#csvファイルにカテゴリーごとのURLを保存する\n",
    "results.to_csv(\"data/categories_url.csv\", header=False, index=False)"
   ]
  },
  {
   "cell_type": "code",
   "execution_count": 3,
   "metadata": {},
   "outputs": [],
   "source": [
    "#カテゴリーページで次のページに飛ぶ\n",
    "def next_page(driver, urls):\n",
    "    try:\n",
    "        ul_pagination = driver.find_element_by_class_name('pagination-boxil')\n",
    "        li_next = ul_pagination.find_element_by_class_name('next')\n",
    "        driver.execute_script(\"window.scrollTo(0, 3900);\")\n",
    "#         print(\"did\")\n",
    "        time.sleep(2)\n",
    "        li_next.find_element_by_tag_name('a').click()\n",
    "        time.sleep(3)\n",
    "        return True\n",
    "    except:\n",
    "        return False"
   ]
  },
  {
   "cell_type": "code",
   "execution_count": 4,
   "metadata": {},
   "outputs": [],
   "source": [
    "# 現在表示されているページのサービス名を取得\n",
    "def scrape_service(driver):\n",
    "    # ここにスクレイピングデータを１行ずつ格納していく\n",
    "    results = []\n",
    "    urls = []\n",
    "    is_on = True\n",
    "#     print(\"-----------\")\n",
    "#     count = 1\n",
    "    while is_on:\n",
    "#         print(count)\n",
    "#         count += 1\n",
    "        urls.append(driver.current_url)\n",
    "        for i in driver.find_elements_by_class_name(\"heading-3\"):\n",
    "#             l = []\n",
    "            a = i.find_element_by_tag_name(\"a\")\n",
    "#             l.append(a.text)\n",
    "#             l.append(a.get_attribute(\"href\"))\n",
    "#             results.append(l)\n",
    "            results.append(a.get_attribute(\"href\"))\n",
    "\n",
    "        is_on = next_page(driver, urls)\n",
    "    return results"
   ]
  },
  {
   "cell_type": "code",
   "execution_count": 5,
   "metadata": {},
   "outputs": [],
   "source": [
    "# results = scrape_service(driver)\n",
    "# print(results)"
   ]
  },
  {
   "cell_type": "code",
   "execution_count": 2,
   "metadata": {},
   "outputs": [
    {
     "ename": "NameError",
     "evalue": "name 'webdriver' is not defined",
     "output_type": "error",
     "traceback": [
      "\u001b[0;31m---------------------------------------------------------------------------\u001b[0m",
      "\u001b[0;31mNameError\u001b[0m                                 Traceback (most recent call last)",
      "\u001b[0;32m<ipython-input-2-c3303ba0d025>\u001b[0m in \u001b[0;36m<module>\u001b[0;34m\u001b[0m\n\u001b[1;32m      1\u001b[0m \u001b[0murl\u001b[0m \u001b[0;34m=\u001b[0m \u001b[0;34m\"https://boxil.jp/categories/\"\u001b[0m\u001b[0;34m\u001b[0m\u001b[0;34m\u001b[0m\u001b[0m\n\u001b[0;32m----> 2\u001b[0;31m \u001b[0mdriver\u001b[0m \u001b[0;34m=\u001b[0m \u001b[0mwebdriver\u001b[0m\u001b[0;34m.\u001b[0m\u001b[0mChrome\u001b[0m\u001b[0;34m(\u001b[0m\u001b[0mexecutable_path\u001b[0m\u001b[0;34m=\u001b[0m\u001b[0;34m'/Users/hiroki_igeta/chromedriver'\u001b[0m\u001b[0;34m)\u001b[0m\u001b[0;34m\u001b[0m\u001b[0;34m\u001b[0m\u001b[0m\n\u001b[0m\u001b[1;32m      3\u001b[0m \u001b[0mdriver\u001b[0m\u001b[0;34m.\u001b[0m\u001b[0mget\u001b[0m\u001b[0;34m(\u001b[0m\u001b[0murl\u001b[0m\u001b[0;34m)\u001b[0m\u001b[0;34m\u001b[0m\u001b[0;34m\u001b[0m\u001b[0m\n\u001b[1;32m      4\u001b[0m \u001b[0mdriver\u001b[0m\u001b[0;34m.\u001b[0m\u001b[0mmaximize_window\u001b[0m\u001b[0;34m(\u001b[0m\u001b[0;34m)\u001b[0m\u001b[0;34m\u001b[0m\u001b[0;34m\u001b[0m\u001b[0m\n\u001b[1;32m      5\u001b[0m \u001b[0mdriver\u001b[0m\u001b[0;34m.\u001b[0m\u001b[0mget\u001b[0m\u001b[0;34m(\u001b[0m\u001b[0murl\u001b[0m\u001b[0;34m)\u001b[0m\u001b[0;34m\u001b[0m\u001b[0;34m\u001b[0m\u001b[0m\n",
      "\u001b[0;31mNameError\u001b[0m: name 'webdriver' is not defined"
     ]
    }
   ],
   "source": [
    "url = \"https://boxil.jp/categories/\"\n",
    "driver = webdriver.Chrome(executable_path='/Users/hiroki_igeta/chromedriver')\n",
    "driver.get(url)\n",
    "driver.maximize_window()\n",
    "driver.get(url)"
   ]
  },
  {
   "cell_type": "code",
   "execution_count": 5,
   "metadata": {},
   "outputs": [],
   "source": [
    "#各カテゴリーのURLを開き、それぞれのサービス名を取得する\n",
    "with open('data/categories_url.csv', encoding='utf-8') as csv_file:\n",
    "    service_data = []\n",
    "    o_csv = []\n",
    "    for row in csv.reader(csv_file):\n",
    "        o_csv.append(row[0])\n",
    "        for url in o_csv:\n",
    "            driver.get(url)\n",
    "            time.sleep(3)\n",
    "            service_data.append(scrape_service(driver))\n",
    "        del o_csv[0]\n",
    "    tmp = pd.Series(data = service_data)\n",
    "    tmp.to_csv(\"data/service_detail_url.csv\", header=False, index=False)"
   ]
  },
  {
   "cell_type": "code",
   "execution_count": null,
   "metadata": {},
   "outputs": [],
   "source": []
  },
  {
   "cell_type": "code",
   "execution_count": 159,
   "metadata": {},
   "outputs": [],
   "source": [
    "#データ整形\n",
    "df = pd.read_csv(\"data/service_names.csv\", header=None)\n",
    "result = []\n",
    "df[0] = df[0].str.replace('[', '')\n",
    "df[0] = df[0].str.replace(']', '')\n",
    "df[0] = df[0].str.replace(\"'\", \"\")\n",
    "df[0] = df[0].str.replace(\"'\", \"\")\n",
    "df[0] = df[0].str.replace(\" \", \"\")\n",
    "df[0] = df[0].str.replace(\"　\", \"\")\n",
    "# バックオフィス「ペーパーレス化」完全ガイドbyBOXILSaaS\n",
    "# インサイドセールス業界レポート2019byスマートキャンプ\n",
    "# インサイドセールス業界レポート2020byスマートキャンプ\n",
    "# SaaS業界レポート2020\n",
    "# SaaS業界レポート2021速報版\n",
    "\n",
    "for d in df[0]:\n",
    "    for dd in d.split(\",\"):\n",
    "        result.append(dd)\n",
    "\n",
    "# result = pd.Series(data = list(set(result)))\n",
    "# result = pd.Series(data = result)\n",
    "result = pd.Series(data = list(dict.fromkeys(result)))\n",
    "result.to_csv(\"data/service_names_lists.csv\", header=False, index=False)"
   ]
  },
  {
   "cell_type": "code",
   "execution_count": 28,
   "metadata": {},
   "outputs": [],
   "source": [
    "df = pd.read_csv(\"data/service_detail_url.csv\", header=None)\n",
    "result = []\n",
    "df[0] = df[0].str.replace('[', '')\n",
    "df[0] = df[0].str.replace(']', '')\n",
    "df[0] = df[0].str.replace(\"'\", \"\")\n",
    "df[0] = df[0].str.replace(\"'\", \"\")\n",
    "df[0] = df[0].str.replace(\" \", \"\")\n",
    "df[0] = df[0].str.replace(\"　\", \"\")\n",
    "# バックオフィス「ペーパーレス化」完全ガイドbyBOXILSaaS\n",
    "# インサイドセールス業界レポート2019byスマートキャンプ\n",
    "# インサイドセールス業界レポート2020byスマートキャンプ\n",
    "# SaaS業界レポート2020\n",
    "# SaaS業界レポート2021速報版\n",
    "\n",
    "for d in df[0]:\n",
    "    for dd in d.split(\",\"):\n",
    "        result.append(dd)\n",
    "\n",
    "# result = pd.Series(data = list(set(result)))\n",
    "# result = pd.Series(data = result)\n",
    "result = pd.Series(data = list(dict.fromkeys(result)))\n",
    "result.to_csv(\"data/service_detail_url_lists.csv\", header=False, index=False)"
   ]
  },
  {
   "cell_type": "code",
   "execution_count": 3,
   "metadata": {},
   "outputs": [],
   "source": [
    "#サービス名・企業名・資本金・従業員規模等を取得するコード\n",
    "def scrape_detail(driver):\n",
    "    with open('data/detail_data.csv', 'a') as f:\n",
    "        writer = csv.writer(f)\n",
    "        corporate_detail = []\n",
    "        try:\n",
    "            corporate_detail.append(driver.find_element_by_class_name('service_show_overview__header__main__content__header-title').text) #サービス名\n",
    "        except:\n",
    "            corporate_detail.append(\"\")\n",
    "        try:\n",
    "            detail = driver.find_element_by_id('ss-corporation')\n",
    "            try:\n",
    "                corporate_detail.append(detail.find_element_by_class_name('corporationOverviewWrapper__info-name').text) #会社名\n",
    "            except:\n",
    "                corporate_detail.append(\"\")\n",
    "                \n",
    "            try:\n",
    "                corporate_detail.append(detail.find_elements_by_class_name('corporationOverviewWrapper__info-detail')[0].text) #業種\n",
    "            except:\n",
    "                corporate_detail.append(\"\")\n",
    "                \n",
    "            try:\n",
    "                corporate_detail.append(detail.find_elements_by_class_name('corporationOverviewWrapper__info-detail')[1].text) #住所\n",
    "            except:\n",
    "                corporate_detail.append(\"\")\n",
    "                \n",
    "            try:\n",
    "                corporate_detail.append(detail.find_elements_by_class_name('corporationDetailRowWrapper__texts-text')[0].text) #資本金\n",
    "            except:\n",
    "                corporate_detail.append(\"\")\n",
    "                \n",
    "            try:\n",
    "                corporate_detail.append(detail.find_elements_by_class_name('corporationDetailRowWrapper__texts-text')[1].text) #代表者名\n",
    "            except:\n",
    "                corporate_detail.append(\"\")\n",
    "                \n",
    "            try:\n",
    "                corporate_detail.append(detail.find_elements_by_class_name('corporationDetailRowWrapper__texts-text')[2].text) #従業員規模\n",
    "            except:\n",
    "                corporate_detail.append(\"\")\n",
    "                \n",
    "            try:\n",
    "                corporate_detail.append(detail.find_elements_by_class_name('corporationDetailRowWrapper__texts-text')[3].text) # 企業URL\n",
    "            except:\n",
    "                corporate_detail.append(\"\")\n",
    "                \n",
    "            try:\n",
    "                corporate_detail.append(detail.find_elements_by_class_name('corporationDetailRowWrapper__texts-text')[4].text) #設立年月\n",
    "            except:\n",
    "                corporate_detail.append(\"\")\n",
    "                \n",
    "        except:\n",
    "            for _ in range(8):\n",
    "                corporate_detail.append(\"\")\n",
    "        try:\n",
    "            owned_service = detail.find_elements_by_class_name('corporationDetailWrapper__ownedService') #その他サービス名（リスト型）\n",
    "            tmp = []\n",
    "            for s in owned_service:\n",
    "                tmp.append(s.text)\n",
    "            corporate_detail.append(tmp)\n",
    "        except:\n",
    "            corporate_detail.append(\"\")\n",
    "        writer.writerow(corporate_detail)\n",
    "        return corporate_detail"
   ]
  },
  {
   "cell_type": "code",
   "execution_count": 4,
   "metadata": {},
   "outputs": [],
   "source": [
    "# results = []\n",
    "# results.append(scrape_detail(driver))\n",
    "# print(results)"
   ]
  },
  {
   "cell_type": "code",
   "execution_count": 8,
   "metadata": {},
   "outputs": [],
   "source": [
    "#各カテゴリーのURLを開き、それぞれのサービス名・企業名等を取得する\n",
    "with open('data/url_tmp.csv', encoding='utf-8') as csv_file:\n",
    "    results = []\n",
    "    o_csv = []\n",
    "    for row in csv.reader(csv_file):\n",
    "        o_csv.append(row[0])\n",
    "        for url in o_csv:\n",
    "            driver.get(url)\n",
    "            time.sleep(3)\n",
    "            corporate_detail = scrape_detail(driver)\n",
    "            results.append(corporate_detail)\n",
    "        del o_csv[0]\n",
    "    tmp = pd.Series(data = results)\n",
    "    tmp.to_csv(\"data/detail_data_complete.csv\", header=False, index=False)"
   ]
  },
  {
   "cell_type": "code",
   "execution_count": 4,
   "metadata": {},
   "outputs": [
    {
     "ename": "ParserError",
     "evalue": "Error tokenizing data. C error: Expected 10 fields in line 688, saw 19\n",
     "output_type": "error",
     "traceback": [
      "\u001b[0;31m---------------------------------------------------------------------------\u001b[0m",
      "\u001b[0;31mParserError\u001b[0m                               Traceback (most recent call last)",
      "\u001b[0;32m<ipython-input-4-5a4f5d437408>\u001b[0m in \u001b[0;36m<module>\u001b[0;34m\u001b[0m\n\u001b[0;32m----> 1\u001b[0;31m \u001b[0mdf\u001b[0m \u001b[0;34m=\u001b[0m \u001b[0mpd\u001b[0m\u001b[0;34m.\u001b[0m\u001b[0mread_csv\u001b[0m\u001b[0;34m(\u001b[0m\u001b[0;34m\"data/detail_data.csv\"\u001b[0m\u001b[0;34m,\u001b[0m \u001b[0mheader\u001b[0m\u001b[0;34m=\u001b[0m\u001b[0;32mNone\u001b[0m\u001b[0;34m)\u001b[0m\u001b[0;34m\u001b[0m\u001b[0;34m\u001b[0m\u001b[0m\n\u001b[0m\u001b[1;32m      2\u001b[0m \u001b[0mdf\u001b[0m\u001b[0;34m\u001b[0m\u001b[0;34m\u001b[0m\u001b[0m\n",
      "\u001b[0;32m~/opt/anaconda3/lib/python3.7/site-packages/pandas/io/parsers.py\u001b[0m in \u001b[0;36mparser_f\u001b[0;34m(filepath_or_buffer, sep, delimiter, header, names, index_col, usecols, squeeze, prefix, mangle_dupe_cols, dtype, engine, converters, true_values, false_values, skipinitialspace, skiprows, skipfooter, nrows, na_values, keep_default_na, na_filter, verbose, skip_blank_lines, parse_dates, infer_datetime_format, keep_date_col, date_parser, dayfirst, cache_dates, iterator, chunksize, compression, thousands, decimal, lineterminator, quotechar, quoting, doublequote, escapechar, comment, encoding, dialect, error_bad_lines, warn_bad_lines, delim_whitespace, low_memory, memory_map, float_precision)\u001b[0m\n\u001b[1;32m    683\u001b[0m         )\n\u001b[1;32m    684\u001b[0m \u001b[0;34m\u001b[0m\u001b[0m\n\u001b[0;32m--> 685\u001b[0;31m         \u001b[0;32mreturn\u001b[0m \u001b[0m_read\u001b[0m\u001b[0;34m(\u001b[0m\u001b[0mfilepath_or_buffer\u001b[0m\u001b[0;34m,\u001b[0m \u001b[0mkwds\u001b[0m\u001b[0;34m)\u001b[0m\u001b[0;34m\u001b[0m\u001b[0;34m\u001b[0m\u001b[0m\n\u001b[0m\u001b[1;32m    686\u001b[0m \u001b[0;34m\u001b[0m\u001b[0m\n\u001b[1;32m    687\u001b[0m     \u001b[0mparser_f\u001b[0m\u001b[0;34m.\u001b[0m\u001b[0m__name__\u001b[0m \u001b[0;34m=\u001b[0m \u001b[0mname\u001b[0m\u001b[0;34m\u001b[0m\u001b[0;34m\u001b[0m\u001b[0m\n",
      "\u001b[0;32m~/opt/anaconda3/lib/python3.7/site-packages/pandas/io/parsers.py\u001b[0m in \u001b[0;36m_read\u001b[0;34m(filepath_or_buffer, kwds)\u001b[0m\n\u001b[1;32m    461\u001b[0m \u001b[0;34m\u001b[0m\u001b[0m\n\u001b[1;32m    462\u001b[0m     \u001b[0;32mtry\u001b[0m\u001b[0;34m:\u001b[0m\u001b[0;34m\u001b[0m\u001b[0;34m\u001b[0m\u001b[0m\n\u001b[0;32m--> 463\u001b[0;31m         \u001b[0mdata\u001b[0m \u001b[0;34m=\u001b[0m \u001b[0mparser\u001b[0m\u001b[0;34m.\u001b[0m\u001b[0mread\u001b[0m\u001b[0;34m(\u001b[0m\u001b[0mnrows\u001b[0m\u001b[0;34m)\u001b[0m\u001b[0;34m\u001b[0m\u001b[0;34m\u001b[0m\u001b[0m\n\u001b[0m\u001b[1;32m    464\u001b[0m     \u001b[0;32mfinally\u001b[0m\u001b[0;34m:\u001b[0m\u001b[0;34m\u001b[0m\u001b[0;34m\u001b[0m\u001b[0m\n\u001b[1;32m    465\u001b[0m         \u001b[0mparser\u001b[0m\u001b[0;34m.\u001b[0m\u001b[0mclose\u001b[0m\u001b[0;34m(\u001b[0m\u001b[0;34m)\u001b[0m\u001b[0;34m\u001b[0m\u001b[0;34m\u001b[0m\u001b[0m\n",
      "\u001b[0;32m~/opt/anaconda3/lib/python3.7/site-packages/pandas/io/parsers.py\u001b[0m in \u001b[0;36mread\u001b[0;34m(self, nrows)\u001b[0m\n\u001b[1;32m   1152\u001b[0m     \u001b[0;32mdef\u001b[0m \u001b[0mread\u001b[0m\u001b[0;34m(\u001b[0m\u001b[0mself\u001b[0m\u001b[0;34m,\u001b[0m \u001b[0mnrows\u001b[0m\u001b[0;34m=\u001b[0m\u001b[0;32mNone\u001b[0m\u001b[0;34m)\u001b[0m\u001b[0;34m:\u001b[0m\u001b[0;34m\u001b[0m\u001b[0;34m\u001b[0m\u001b[0m\n\u001b[1;32m   1153\u001b[0m         \u001b[0mnrows\u001b[0m \u001b[0;34m=\u001b[0m \u001b[0m_validate_integer\u001b[0m\u001b[0;34m(\u001b[0m\u001b[0;34m\"nrows\"\u001b[0m\u001b[0;34m,\u001b[0m \u001b[0mnrows\u001b[0m\u001b[0;34m)\u001b[0m\u001b[0;34m\u001b[0m\u001b[0;34m\u001b[0m\u001b[0m\n\u001b[0;32m-> 1154\u001b[0;31m         \u001b[0mret\u001b[0m \u001b[0;34m=\u001b[0m \u001b[0mself\u001b[0m\u001b[0;34m.\u001b[0m\u001b[0m_engine\u001b[0m\u001b[0;34m.\u001b[0m\u001b[0mread\u001b[0m\u001b[0;34m(\u001b[0m\u001b[0mnrows\u001b[0m\u001b[0;34m)\u001b[0m\u001b[0;34m\u001b[0m\u001b[0;34m\u001b[0m\u001b[0m\n\u001b[0m\u001b[1;32m   1155\u001b[0m \u001b[0;34m\u001b[0m\u001b[0m\n\u001b[1;32m   1156\u001b[0m         \u001b[0;31m# May alter columns / col_dict\u001b[0m\u001b[0;34m\u001b[0m\u001b[0;34m\u001b[0m\u001b[0;34m\u001b[0m\u001b[0m\n",
      "\u001b[0;32m~/opt/anaconda3/lib/python3.7/site-packages/pandas/io/parsers.py\u001b[0m in \u001b[0;36mread\u001b[0;34m(self, nrows)\u001b[0m\n\u001b[1;32m   2057\u001b[0m     \u001b[0;32mdef\u001b[0m \u001b[0mread\u001b[0m\u001b[0;34m(\u001b[0m\u001b[0mself\u001b[0m\u001b[0;34m,\u001b[0m \u001b[0mnrows\u001b[0m\u001b[0;34m=\u001b[0m\u001b[0;32mNone\u001b[0m\u001b[0;34m)\u001b[0m\u001b[0;34m:\u001b[0m\u001b[0;34m\u001b[0m\u001b[0;34m\u001b[0m\u001b[0m\n\u001b[1;32m   2058\u001b[0m         \u001b[0;32mtry\u001b[0m\u001b[0;34m:\u001b[0m\u001b[0;34m\u001b[0m\u001b[0;34m\u001b[0m\u001b[0m\n\u001b[0;32m-> 2059\u001b[0;31m             \u001b[0mdata\u001b[0m \u001b[0;34m=\u001b[0m \u001b[0mself\u001b[0m\u001b[0;34m.\u001b[0m\u001b[0m_reader\u001b[0m\u001b[0;34m.\u001b[0m\u001b[0mread\u001b[0m\u001b[0;34m(\u001b[0m\u001b[0mnrows\u001b[0m\u001b[0;34m)\u001b[0m\u001b[0;34m\u001b[0m\u001b[0;34m\u001b[0m\u001b[0m\n\u001b[0m\u001b[1;32m   2060\u001b[0m         \u001b[0;32mexcept\u001b[0m \u001b[0mStopIteration\u001b[0m\u001b[0;34m:\u001b[0m\u001b[0;34m\u001b[0m\u001b[0;34m\u001b[0m\u001b[0m\n\u001b[1;32m   2061\u001b[0m             \u001b[0;32mif\u001b[0m \u001b[0mself\u001b[0m\u001b[0;34m.\u001b[0m\u001b[0m_first_chunk\u001b[0m\u001b[0;34m:\u001b[0m\u001b[0;34m\u001b[0m\u001b[0;34m\u001b[0m\u001b[0m\n",
      "\u001b[0;32mpandas/_libs/parsers.pyx\u001b[0m in \u001b[0;36mpandas._libs.parsers.TextReader.read\u001b[0;34m()\u001b[0m\n",
      "\u001b[0;32mpandas/_libs/parsers.pyx\u001b[0m in \u001b[0;36mpandas._libs.parsers.TextReader._read_low_memory\u001b[0;34m()\u001b[0m\n",
      "\u001b[0;32mpandas/_libs/parsers.pyx\u001b[0m in \u001b[0;36mpandas._libs.parsers.TextReader._read_rows\u001b[0;34m()\u001b[0m\n",
      "\u001b[0;32mpandas/_libs/parsers.pyx\u001b[0m in \u001b[0;36mpandas._libs.parsers.TextReader._tokenize_rows\u001b[0;34m()\u001b[0m\n",
      "\u001b[0;32mpandas/_libs/parsers.pyx\u001b[0m in \u001b[0;36mpandas._libs.parsers.raise_parser_error\u001b[0;34m()\u001b[0m\n",
      "\u001b[0;31mParserError\u001b[0m: Error tokenizing data. C error: Expected 10 fields in line 688, saw 19\n"
     ]
    }
   ],
   "source": [
    "df = pd.read_csv(\"data/detail_data.csv\", header=None)\n",
    "df"
   ]
  },
  {
   "cell_type": "code",
   "execution_count": null,
   "metadata": {},
   "outputs": [],
   "source": []
  }
 ],
 "metadata": {
  "kernelspec": {
   "display_name": "Python 3",
   "language": "python",
   "name": "python3"
  },
  "language_info": {
   "codemirror_mode": {
    "name": "ipython",
    "version": 3
   },
   "file_extension": ".py",
   "mimetype": "text/x-python",
   "name": "python",
   "nbconvert_exporter": "python",
   "pygments_lexer": "ipython3",
   "version": "3.7.4"
  }
 },
 "nbformat": 4,
 "nbformat_minor": 2
}
